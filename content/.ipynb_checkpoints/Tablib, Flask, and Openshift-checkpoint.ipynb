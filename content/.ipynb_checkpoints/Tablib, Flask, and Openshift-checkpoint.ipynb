{
 "cells": [
  {
   "cell_type": "markdown",
   "metadata": {},
   "source": [
    "# Tablib, Flask, and Openshift!\n",
    "## Check out the web-app [here!](http://tbdemo-bamf.rhcloud.com)\n",
    "\n",
    "### [__Source Code__](https://github.com/knowsuchagency/tbdemo) <- Forked from Ryan Jarvinen's [flask-base](https://github.com/ryanj/flask-base)\n",
    "### [Flask](http://flask.pocoo.org/docs/0.10/)\n",
    "### [Tablib](http://docs.python-tablib.org/en/latest/)\n",
    "### [Openshift](http://www.openshift.org/)"
   ]
  },
  {
   "cell_type": "code",
   "execution_count": null,
   "metadata": {
    "collapsed": false
   },
   "outputs": [],
   "source": [
    "from flask import Flask, render_template, request\n",
    "import tablib\n",
    "\n",
    "\n",
    "app = Flask(__name__)\n",
    "app.config.from_pyfile('flaskapp.cfg')\n",
    "\n",
    "\n",
    "@app.route('/')\n",
    "def index():\n",
    "    return render_template('index.html')\n",
    "\n",
    "\n",
    "@app.route('/upload', methods=['POST'])\n",
    "def upload():\n",
    "    table = tablib.Dataset()\n",
    "    uploaded_file = request.files['file']\n",
    "    table.csv = uploaded_file.read()\n",
    "    return table.html\n",
    "\n",
    "\n",
    "if __name__ == '__main__':\n",
    "    app.run()"
   ]
  }
 ],
 "metadata": {
  "celltoolbar": "Edit Metadata",
  "kernelspec": {
   "display_name": "Python 2",
   "language": "python",
   "name": "python2"
  },
  "language_info": {
   "codemirror_mode": {
    "name": "ipython",
    "version": 2
   },
   "file_extension": ".py",
   "mimetype": "text/x-python",
   "name": "python",
   "nbconvert_exporter": "python",
   "pygments_lexer": "ipython2",
   "version": "2.7.10"
  }
 },
 "nbformat": 4,
 "nbformat_minor": 0
}
