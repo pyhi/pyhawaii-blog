{
 "cells": [
  {
   "cell_type": "markdown",
   "metadata": {
    "slideshow": {
     "slide_type": "slide"
    }
   },
   "source": [
    "# Pathlib and os.path"
   ]
  },
  {
   "cell_type": "markdown",
   "metadata": {
    "slideshow": {
     "slide_type": "fragment"
    }
   },
   "source": [
    "## navigate folders like a pro!"
   ]
  },
  {
   "cell_type": "code",
   "execution_count": 5,
   "metadata": {
    "collapsed": false,
    "slideshow": {
     "slide_type": "slide"
    }
   },
   "outputs": [
    {
     "name": "stdout",
     "output_type": "stream",
     "text": [
      ".\r\n",
      "├── example\r\n",
      "│   └── file.txt\r\n",
      "├── pathlib_lightning_talk.ipynb\r\n",
      "├── pathlib_lightning_talk.slides.html\r\n",
      "├── python_folder\r\n",
      "│   ├── example1.py\r\n",
      "│   ├── example2.py\r\n",
      "│   └── example3.py\r\n",
      "└── truth.txt\r\n",
      "\r\n",
      "2 directories, 7 files\r\n"
     ]
    }
   ],
   "source": [
    "!tree"
   ]
  },
  {
   "cell_type": "code",
   "execution_count": 6,
   "metadata": {
    "collapsed": true,
    "slideshow": {
     "slide_type": "skip"
    }
   },
   "outputs": [],
   "source": [
    "import os\n",
    "from pathlib import Path"
   ]
  },
  {
   "cell_type": "markdown",
   "metadata": {
    "slideshow": {
     "slide_type": "slide"
    }
   },
   "source": [
    "## print the current working directory"
   ]
  },
  {
   "cell_type": "code",
   "execution_count": 7,
   "metadata": {
    "collapsed": false,
    "slideshow": {
     "slide_type": "fragment"
    }
   },
   "outputs": [
    {
     "data": {
      "text/plain": [
       "'/Users/stephanfitzpatrick/git/python-weekly/week1/friday'"
      ]
     },
     "execution_count": 7,
     "metadata": {},
     "output_type": "execute_result"
    }
   ],
   "source": [
    "# the old way\n",
    "os.path.realpath(os.path.curdir)"
   ]
  },
  {
   "cell_type": "code",
   "execution_count": 8,
   "metadata": {
    "collapsed": false,
    "slideshow": {
     "slide_type": "fragment"
    }
   },
   "outputs": [
    {
     "data": {
      "text/plain": [
       "'/Users/stephanfitzpatrick/git/python-weekly/week1/friday'"
      ]
     },
     "execution_count": 8,
     "metadata": {},
     "output_type": "execute_result"
    }
   ],
   "source": [
    "# the new way\n",
    "str(Path.cwd())"
   ]
  },
  {
   "cell_type": "code",
   "execution_count": 9,
   "metadata": {
    "collapsed": false,
    "slideshow": {
     "slide_type": "subslide"
    }
   },
   "outputs": [
    {
     "name": "stdout",
     "output_type": "stream",
     "text": [
      "/Users/stephanfitzpatrick/git/python-weekly/week1/friday\n"
     ]
    }
   ],
   "source": [
    "# the full path to our current working directory\n",
    "cwd_fullpath = os.path.realpath('.')\n",
    "print(cwd_fullpath)"
   ]
  },
  {
   "cell_type": "markdown",
   "metadata": {
    "slideshow": {
     "slide_type": "slide"
    }
   },
   "source": [
    "## iterate over paths"
   ]
  },
  {
   "cell_type": "code",
   "execution_count": 10,
   "metadata": {
    "collapsed": false,
    "scrolled": true,
    "slideshow": {
     "slide_type": "fragment"
    }
   },
   "outputs": [
    {
     "data": {
      "text/plain": [
       "['/Users/stephanfitzpatrick/git/python-weekly/week1/friday/.DS_Store',\n",
       " '/Users/stephanfitzpatrick/git/python-weekly/week1/friday/pathlib_lightning_talk.ipynb',\n",
       " '/Users/stephanfitzpatrick/git/python-weekly/week1/friday/pathlib_lightning_talk.slides.html',\n",
       " '/Users/stephanfitzpatrick/git/python-weekly/week1/friday/truth.txt',\n",
       " '/Users/stephanfitzpatrick/git/python-weekly/week1/friday/.ipynb_checkpoints/pathlib_lightning_talk-checkpoint.ipynb']"
      ]
     },
     "execution_count": 10,
     "metadata": {},
     "output_type": "execute_result"
    }
   ],
   "source": [
    "# old way\n",
    "def get_paths(directory):\n",
    "    \"\"\"return an iterator of all paths in a given directory\"\"\"\n",
    "    for root, dirs, files in os.walk(directory):\n",
    "        for file in files:\n",
    "            path = os.path.join(root, file)\n",
    "            yield os.path.realpath(path)\n",
    "\n",
    "list(get_paths('.'))[:5]"
   ]
  },
  {
   "cell_type": "code",
   "execution_count": 22,
   "metadata": {
    "collapsed": false,
    "slideshow": {
     "slide_type": "fragment"
    }
   },
   "outputs": [
    {
     "name": "stdout",
     "output_type": "stream",
     "text": [
      "I was raised by wolves\n"
     ]
    }
   ],
   "source": [
    "# new way\n",
    "print('I was raised by wolves')"
   ]
  },
  {
   "cell_type": "markdown",
   "metadata": {
    "slideshow": {
     "slide_type": "slide"
    }
   },
   "source": [
    "## filter paths"
   ]
  },
  {
   "cell_type": "code",
   "execution_count": 12,
   "metadata": {
    "collapsed": false,
    "slideshow": {
     "slide_type": "fragment"
    }
   },
   "outputs": [
    {
     "data": {
      "text/plain": [
       "['/Users/stephanfitzpatrick/git/python-weekly/week1/friday/python_folder/example1.py',\n",
       " '/Users/stephanfitzpatrick/git/python-weekly/week1/friday/python_folder/example2.py',\n",
       " '/Users/stephanfitzpatrick/git/python-weekly/week1/friday/python_folder/example3.py']"
      ]
     },
     "execution_count": 12,
     "metadata": {},
     "output_type": "execute_result"
    }
   ],
   "source": [
    "# old way\n",
    "def ends_with(directory, suffix):\n",
    "    \"\"\"yield paths where the path ends in suffix\"\"\"\n",
    "    for path in get_paths(directory):\n",
    "        if path.endswith(suffix):\n",
    "            yield path\n",
    "            \n",
    "list(ends_with('.', '.py'))"
   ]
  },
  {
   "cell_type": "code",
   "execution_count": 13,
   "metadata": {
    "collapsed": false,
    "slideshow": {
     "slide_type": "fragment"
    }
   },
   "outputs": [
    {
     "data": {
      "text/plain": [
       "['/Users/stephanfitzpatrick/git/python-weekly/week1/friday/python_folder/example1.py',\n",
       " '/Users/stephanfitzpatrick/git/python-weekly/week1/friday/python_folder/example2.py',\n",
       " '/Users/stephanfitzpatrick/git/python-weekly/week1/friday/python_folder/example3.py']"
      ]
     },
     "execution_count": 13,
     "metadata": {},
     "output_type": "execute_result"
    }
   ],
   "source": [
    "# new way\n",
    "[path.as_posix() for path in Path.cwd().rglob('*.py')]"
   ]
  },
  {
   "cell_type": "markdown",
   "metadata": {
    "slideshow": {
     "slide_type": "slide"
    }
   },
   "source": [
    "## create paths"
   ]
  },
  {
   "cell_type": "code",
   "execution_count": 14,
   "metadata": {
    "collapsed": false,
    "slideshow": {
     "slide_type": "fragment"
    }
   },
   "outputs": [
    {
     "data": {
      "text/plain": [
       "'/Users/stephanfitzpatrick/git'"
      ]
     },
     "execution_count": 14,
     "metadata": {},
     "output_type": "execute_result"
    }
   ],
   "source": [
    "# old way\n",
    "os.path.join('/', 'Users', 'stephanfitzpatrick', 'git')"
   ]
  },
  {
   "cell_type": "code",
   "execution_count": 15,
   "metadata": {
    "collapsed": false,
    "slideshow": {
     "slide_type": "fragment"
    }
   },
   "outputs": [
    {
     "data": {
      "text/plain": [
       "'/Users/stephanfitzpatrick/git'"
      ]
     },
     "execution_count": 15,
     "metadata": {},
     "output_type": "execute_result"
    }
   ],
   "source": [
    "# new way\n",
    "str(Path('/', 'Users', 'stephanfitzpatrick', 'git'))"
   ]
  },
  {
   "cell_type": "markdown",
   "metadata": {
    "slideshow": {
     "slide_type": "slide"
    }
   },
   "source": [
    "## open files"
   ]
  },
  {
   "cell_type": "code",
   "execution_count": 16,
   "metadata": {
    "collapsed": false,
    "slideshow": {
     "slide_type": "fragment"
    }
   },
   "outputs": [
    {
     "name": "stdout",
     "output_type": "stream",
     "text": [
      "Python is the shizz\n",
      "\n"
     ]
    }
   ],
   "source": [
    "# old way\n",
    "input_path = os.path.join('.', 'truth.txt')\n",
    "with open(input_path) as foo:\n",
    "    print(foo.read())"
   ]
  },
  {
   "cell_type": "code",
   "execution_count": 17,
   "metadata": {
    "collapsed": false,
    "slideshow": {
     "slide_type": "fragment"
    }
   },
   "outputs": [
    {
     "name": "stdout",
     "output_type": "stream",
     "text": [
      "Python is the shizz\n",
      "\n"
     ]
    }
   ],
   "source": [
    "# new way\n",
    "with Path('.', 'truth.txt').open() as foo:\n",
    "    print(foo.read())"
   ]
  },
  {
   "cell_type": "markdown",
   "metadata": {
    "slideshow": {
     "slide_type": "slide"
    }
   },
   "source": [
    "## variable expansion"
   ]
  },
  {
   "cell_type": "code",
   "execution_count": 18,
   "metadata": {
    "collapsed": false,
    "slideshow": {
     "slide_type": "fragment"
    }
   },
   "outputs": [
    {
     "data": {
      "text/plain": [
       "'/Users/stephanfitzpatrick/.oh-my-zsh'"
      ]
     },
     "execution_count": 18,
     "metadata": {},
     "output_type": "execute_result"
    }
   ],
   "source": [
    "# old way\n",
    "os.path.expandvars(\"$ZSH\")"
   ]
  },
  {
   "cell_type": "code",
   "execution_count": 19,
   "metadata": {
    "collapsed": false,
    "slideshow": {
     "slide_type": "fragment"
    }
   },
   "outputs": [
    {
     "data": {
      "text/plain": [
       "'/Users/stephanfitzpatrick'"
      ]
     },
     "execution_count": 19,
     "metadata": {},
     "output_type": "execute_result"
    }
   ],
   "source": [
    "# old way\n",
    "os.path.expanduser(\"~\")"
   ]
  },
  {
   "cell_type": "code",
   "execution_count": 20,
   "metadata": {
    "collapsed": true,
    "slideshow": {
     "slide_type": "fragment"
    }
   },
   "outputs": [],
   "source": [
    "# new way"
   ]
  },
  {
   "cell_type": "markdown",
   "metadata": {
    "slideshow": {
     "slide_type": "fragment"
    }
   },
   "source": [
    "#### Just kidding! The old way is still awesome :D"
   ]
  },
  {
   "cell_type": "markdown",
   "metadata": {
    "collapsed": true,
    "slideshow": {
     "slide_type": "slide"
    }
   },
   "source": [
    "## Once again, with feeling!"
   ]
  },
  {
   "cell_type": "markdown",
   "metadata": {
    "slideshow": {
     "slide_type": "fragment"
    }
   },
   "source": [
    "### Pathlib and os.path work together in beautiful harmony"
   ]
  },
  {
   "cell_type": "code",
   "execution_count": 21,
   "metadata": {
    "collapsed": false,
    "slideshow": {
     "slide_type": "fragment"
    }
   },
   "outputs": [
    {
     "name": "stdout",
     "output_type": "stream",
     "text": [
      ".DS_Store                          is not a directory\n",
      ".ipynb_checkpoints                 is a directory\n",
      "example                            is a directory\n",
      "pathlib_lightning_talk.ipynb       is not a directory\n",
      "pathlib_lightning_talk.slides.html is not a directory\n",
      "python_folder                      is a directory\n",
      "truth.txt                          is not a directory\n"
     ]
    }
   ],
   "source": [
    "for path in Path('.').iterdir():\n",
    "    is_dir = 'is' if os.path.isdir(str(path)) else 'is not'\n",
    "    print(\"{:34} {:<} {}\".format(str(path), is_dir, 'a directory'))"
   ]
  },
  {
   "cell_type": "code",
   "execution_count": null,
   "metadata": {
    "collapsed": true
   },
   "outputs": [],
   "source": []
  }
 ],
 "metadata": {
  "celltoolbar": "Slideshow",
  "kernelspec": {
   "display_name": "Python 3",
   "language": "python",
   "name": "python3"
  },
  "language_info": {
   "codemirror_mode": {
    "name": "ipython",
    "version": 3
   },
   "file_extension": ".py",
   "mimetype": "text/x-python",
   "name": "python",
   "nbconvert_exporter": "python",
   "pygments_lexer": "ipython3",
   "version": "3.4.3"
  }
 },
 "nbformat": 4,
 "nbformat_minor": 0
}
